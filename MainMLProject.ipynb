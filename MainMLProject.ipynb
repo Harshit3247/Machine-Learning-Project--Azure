{
 "cells": [
  {
   "cell_type": "code",
   "execution_count": 1,
   "id": "ccd7784b-0ca2-4d4a-91b4-4061ffcadef5",
   "metadata": {},
   "outputs": [],
   "source": [
    "import numpy as np\n",
    "import pandas as pd\n",
    "import matplotlib.pyplot as plt"
   ]
  },
  {
   "cell_type": "code",
   "execution_count": 2,
   "id": "b086b8e7-fc17-402a-9391-2ecd00266a3a",
   "metadata": {},
   "outputs": [
    {
     "name": "stdout",
     "output_type": "stream",
     "text": [
      "C:\\Users\\User\n"
     ]
    }
   ],
   "source": [
    "cd"
   ]
  },
  {
   "cell_type": "code",
   "execution_count": 3,
   "id": "0010b494-a485-473f-b42a-65535b2814c9",
   "metadata": {},
   "outputs": [],
   "source": [
    "#adding dataset"
   ]
  },
  {
   "cell_type": "code",
   "execution_count": 4,
   "id": "46630844-8c97-41af-b1ef-7c7be196d4fc",
   "metadata": {},
   "outputs": [],
   "source": [
    "df = pd.read_csv(r\"C:\\Users\\User\\Downloads\\data.csv\")"
   ]
  },
  {
   "cell_type": "code",
   "execution_count": 5,
   "id": "372c1534-51d1-4422-8ced-9361018f73ba",
   "metadata": {},
   "outputs": [
    {
     "data": {
      "text/html": [
       "<div>\n",
       "<style scoped>\n",
       "    .dataframe tbody tr th:only-of-type {\n",
       "        vertical-align: middle;\n",
       "    }\n",
       "\n",
       "    .dataframe tbody tr th {\n",
       "        vertical-align: top;\n",
       "    }\n",
       "\n",
       "    .dataframe thead th {\n",
       "        text-align: right;\n",
       "    }\n",
       "</style>\n",
       "<table border=\"1\" class=\"dataframe\">\n",
       "  <thead>\n",
       "    <tr style=\"text-align: right;\">\n",
       "      <th></th>\n",
       "      <th>age</th>\n",
       "      <th>job</th>\n",
       "      <th>marital</th>\n",
       "      <th>education</th>\n",
       "      <th>default</th>\n",
       "      <th>balance</th>\n",
       "      <th>housing</th>\n",
       "      <th>loan</th>\n",
       "      <th>contact</th>\n",
       "      <th>day</th>\n",
       "      <th>month</th>\n",
       "      <th>duration</th>\n",
       "      <th>campaign</th>\n",
       "      <th>pdays</th>\n",
       "      <th>previous</th>\n",
       "      <th>poutcome</th>\n",
       "      <th>deposit</th>\n",
       "    </tr>\n",
       "  </thead>\n",
       "  <tbody>\n",
       "    <tr>\n",
       "      <th>0</th>\n",
       "      <td>38</td>\n",
       "      <td>technician</td>\n",
       "      <td>married</td>\n",
       "      <td>tertiary</td>\n",
       "      <td>no</td>\n",
       "      <td>127</td>\n",
       "      <td>yes</td>\n",
       "      <td>no</td>\n",
       "      <td>cellular</td>\n",
       "      <td>14</td>\n",
       "      <td>oct</td>\n",
       "      <td>113</td>\n",
       "      <td>1</td>\n",
       "      <td>50</td>\n",
       "      <td>2</td>\n",
       "      <td>success</td>\n",
       "      <td>no</td>\n",
       "    </tr>\n",
       "    <tr>\n",
       "      <th>1</th>\n",
       "      <td>41</td>\n",
       "      <td>housemaid</td>\n",
       "      <td>married</td>\n",
       "      <td>primary</td>\n",
       "      <td>no</td>\n",
       "      <td>365</td>\n",
       "      <td>no</td>\n",
       "      <td>no</td>\n",
       "      <td>cellular</td>\n",
       "      <td>8</td>\n",
       "      <td>aug</td>\n",
       "      <td>203</td>\n",
       "      <td>5</td>\n",
       "      <td>-1</td>\n",
       "      <td>0</td>\n",
       "      <td>unknown</td>\n",
       "      <td>no</td>\n",
       "    </tr>\n",
       "    <tr>\n",
       "      <th>2</th>\n",
       "      <td>39</td>\n",
       "      <td>management</td>\n",
       "      <td>single</td>\n",
       "      <td>tertiary</td>\n",
       "      <td>no</td>\n",
       "      <td>2454</td>\n",
       "      <td>yes</td>\n",
       "      <td>no</td>\n",
       "      <td>cellular</td>\n",
       "      <td>4</td>\n",
       "      <td>may</td>\n",
       "      <td>716</td>\n",
       "      <td>3</td>\n",
       "      <td>263</td>\n",
       "      <td>2</td>\n",
       "      <td>failure</td>\n",
       "      <td>yes</td>\n",
       "    </tr>\n",
       "    <tr>\n",
       "      <th>3</th>\n",
       "      <td>49</td>\n",
       "      <td>blue-collar</td>\n",
       "      <td>married</td>\n",
       "      <td>primary</td>\n",
       "      <td>no</td>\n",
       "      <td>6215</td>\n",
       "      <td>yes</td>\n",
       "      <td>no</td>\n",
       "      <td>cellular</td>\n",
       "      <td>11</td>\n",
       "      <td>may</td>\n",
       "      <td>549</td>\n",
       "      <td>1</td>\n",
       "      <td>-1</td>\n",
       "      <td>0</td>\n",
       "      <td>unknown</td>\n",
       "      <td>no</td>\n",
       "    </tr>\n",
       "    <tr>\n",
       "      <th>4</th>\n",
       "      <td>37</td>\n",
       "      <td>services</td>\n",
       "      <td>married</td>\n",
       "      <td>secondary</td>\n",
       "      <td>no</td>\n",
       "      <td>1694</td>\n",
       "      <td>yes</td>\n",
       "      <td>yes</td>\n",
       "      <td>cellular</td>\n",
       "      <td>29</td>\n",
       "      <td>jan</td>\n",
       "      <td>404</td>\n",
       "      <td>2</td>\n",
       "      <td>251</td>\n",
       "      <td>6</td>\n",
       "      <td>failure</td>\n",
       "      <td>no</td>\n",
       "    </tr>\n",
       "  </tbody>\n",
       "</table>\n",
       "</div>"
      ],
      "text/plain": [
       "   age          job  marital  education default  balance housing loan  \\\n",
       "0   38   technician  married   tertiary      no      127     yes   no   \n",
       "1   41    housemaid  married    primary      no      365      no   no   \n",
       "2   39   management   single   tertiary      no     2454     yes   no   \n",
       "3   49  blue-collar  married    primary      no     6215     yes   no   \n",
       "4   37     services  married  secondary      no     1694     yes  yes   \n",
       "\n",
       "    contact  day month  duration  campaign  pdays  previous poutcome deposit  \n",
       "0  cellular   14   oct       113         1     50         2  success      no  \n",
       "1  cellular    8   aug       203         5     -1         0  unknown      no  \n",
       "2  cellular    4   may       716         3    263         2  failure     yes  \n",
       "3  cellular   11   may       549         1     -1         0  unknown      no  \n",
       "4  cellular   29   jan       404         2    251         6  failure      no  "
      ]
     },
     "execution_count": 5,
     "metadata": {},
     "output_type": "execute_result"
    }
   ],
   "source": [
    "df.head()"
   ]
  },
  {
   "cell_type": "code",
   "execution_count": 6,
   "id": "ebd6b31c-9d30-4a10-b929-45e20072c7f2",
   "metadata": {},
   "outputs": [
    {
     "name": "stdout",
     "output_type": "stream",
     "text": [
      "<class 'pandas.core.frame.DataFrame'>\n",
      "RangeIndex: 8371 entries, 0 to 8370\n",
      "Data columns (total 17 columns):\n",
      " #   Column     Non-Null Count  Dtype \n",
      "---  ------     --------------  ----- \n",
      " 0   age        8371 non-null   int64 \n",
      " 1   job        8371 non-null   object\n",
      " 2   marital    8371 non-null   object\n",
      " 3   education  8371 non-null   object\n",
      " 4   default    8371 non-null   object\n",
      " 5   balance    8371 non-null   int64 \n",
      " 6   housing    8371 non-null   object\n",
      " 7   loan       8371 non-null   object\n",
      " 8   contact    8371 non-null   object\n",
      " 9   day        8371 non-null   int64 \n",
      " 10  month      8371 non-null   object\n",
      " 11  duration   8371 non-null   int64 \n",
      " 12  campaign   8371 non-null   int64 \n",
      " 13  pdays      8371 non-null   int64 \n",
      " 14  previous   8371 non-null   int64 \n",
      " 15  poutcome   8371 non-null   object\n",
      " 16  deposit    8371 non-null   object\n",
      "dtypes: int64(7), object(10)\n",
      "memory usage: 1.1+ MB\n"
     ]
    }
   ],
   "source": [
    "df.info()"
   ]
  },
  {
   "cell_type": "code",
   "execution_count": 7,
   "id": "90f9d468-ddde-43c6-b88d-fdc041ff4745",
   "metadata": {},
   "outputs": [],
   "source": [
    "#a few graphs"
   ]
  },
  {
   "cell_type": "code",
   "execution_count": 8,
   "id": "6bbc5dc5-bcee-4202-9fa5-d18cefa0a966",
   "metadata": {},
   "outputs": [],
   "source": [
    "count=df['deposit'].value_counts()"
   ]
  },
  {
   "cell_type": "code",
   "execution_count": 9,
   "id": "edfe54d6-fd89-47e2-9e96-fbd64e775301",
   "metadata": {},
   "outputs": [
    {
     "data": {
      "text/plain": [
       "no     4428\n",
       "yes    3943\n",
       "Name: deposit, dtype: int64"
      ]
     },
     "execution_count": 9,
     "metadata": {},
     "output_type": "execute_result"
    }
   ],
   "source": [
    "count"
   ]
  },
  {
   "cell_type": "code",
   "execution_count": 10,
   "id": "36831b47-3289-467d-b490-34469f00e30c",
   "metadata": {},
   "outputs": [
    {
     "data": {
      "text/plain": [
       "<AxesSubplot:>"
      ]
     },
     "execution_count": 10,
     "metadata": {},
     "output_type": "execute_result"
    },
    {
     "data": {
      "image/png": "[encoded data removed]",
      "text/plain": [
       "<Figure size 432x288 with 1 Axes>"
      ]
     },
     "metadata": {
      "needs_background": "light"
     },
     "output_type": "display_data"
    }
   ],
   "source": [
    "count.plot(kind=\"bar\")"
   ]
  },
  {
   "cell_type": "code",
   "execution_count": 11,
   "id": "151b6761-a4e4-4ad7-bc8f-5d3626a46810",
   "metadata": {},
   "outputs": [],
   "source": [
    "import seaborn as sns"
   ]
  },
  {
   "cell_type": "code",
   "execution_count": 12,
   "id": "90abddbd-395b-4d95-a1a2-d139049dd139",
   "metadata": {},
   "outputs": [
    {
     "data": {
      "text/plain": [
       "<AxesSubplot:xlabel='marital', ylabel='count'>"
      ]
     },
     "execution_count": 12,
     "metadata": {},
     "output_type": "execute_result"
    },
    {
     "data": {
      "image/png": "[encoded data removed]",
      "text/plain": [
       "<Figure size 432x288 with 1 Axes>"
      ]
     },
     "metadata": {
      "needs_background": "light"
     },
     "output_type": "display_data"
    }
   ],
   "source": [
    "sns.countplot(x=\"marital\",data=df,palette=\"Set2\")"
   ]
  },
  {
   "cell_type": "code",
   "execution_count": 13,
   "id": "7b619015-057e-460e-b91a-aa44f3e9ed50",
   "metadata": {},
   "outputs": [],
   "source": [
    "#encoding data"
   ]
  },
  {
   "cell_type": "code",
   "execution_count": 14,
   "id": "e49c907f-bbd6-4a52-af96-d6d63591c52b",
   "metadata": {},
   "outputs": [],
   "source": [
    "df['deposit']=df['deposit'].apply(\n",
    "    lambda x:1 if x== 'yes' else(0 if x=='no' else None))\n",
    "from sklearn.preprocessing import LabelEncoder \n",
    "le = LabelEncoder()\n",
    "#dataset['deposit'] = le.fit_transform(dataset['deposit'])\n",
    "df['job'] = le.fit_transform(df['job'])\n",
    "df['education'] = le.fit_transform(df['education'])\n",
    "df['loan'] = le.fit_transform(df['loan'])\n",
    "df['contact'] = le.fit_transform(df['contact'])\n",
    "df['month'] = le.fit_transform(df['month'])\n",
    "df['poutcome'] = le.fit_transform(df['poutcome'])\n",
    "df['housing'] = le.fit_transform(df['housing'])\n",
    "df['marital'] = le.fit_transform(df['marital'])\n",
    "df['default'] = le.fit_transform(df['default'])"
   ]
  },
  {
   "cell_type": "code",
   "execution_count": 15,
   "id": "0f92a461-9be6-433c-903c-e1c29c8b8969",
   "metadata": {},
   "outputs": [],
   "source": [
    "x = df.drop([\"deposit\"], axis = 1)\n",
    "y = df.deposit.values"
   ]
  },
  {
   "cell_type": "code",
   "execution_count": 16,
   "id": "bb639b4d-792f-40c0-a7c2-fa3b303d41b3",
   "metadata": {},
   "outputs": [],
   "source": [
    "from sklearn.model_selection import train_test_split\n",
    "x_train, x_test, y_train, y_test = train_test_split(x, y, test_size = 0.3, random_state = 42)"
   ]
  },
  {
   "cell_type": "code",
   "execution_count": 17,
   "id": "e8c00297-ab4f-49d5-bfb9-83f88d294f50",
   "metadata": {},
   "outputs": [],
   "source": [
    "#running the decision tree algorithm"
   ]
  },
  {
   "cell_type": "code",
   "execution_count": 18,
   "id": "ebad9650-0069-4b38-9a2a-c3a3e947f0b9",
   "metadata": {},
   "outputs": [
    {
     "name": "stdout",
     "output_type": "stream",
     "text": [
      "Decision Tree Test Accuracy 77.67%\n"
     ]
    }
   ],
   "source": [
    "from sklearn.tree import DecisionTreeClassifier\n",
    "dtc = DecisionTreeClassifier()\n",
    "dtc.fit(x_train, y_train)\n",
    "print(\"Decision Tree Test Accuracy {:.2f}%\".format(dtc.score(x_test, y_test)*100))"
   ]
  },
  {
   "cell_type": "code",
   "execution_count": 19,
   "id": "17f3fcaa-4776-4538-8c41-d5670bb1bc8d",
   "metadata": {},
   "outputs": [],
   "source": [
    "#the scores "
   ]
  },
  {
   "cell_type": "code",
   "execution_count": 20,
   "id": "fb68ab59-18e4-4c6f-a482-4ea088715329",
   "metadata": {},
   "outputs": [
    {
     "name": "stdout",
     "output_type": "stream",
     "text": [
      "Precision: 0.769\n",
      "Recall: 0.754\n",
      "F1 Score: 0.761\n"
     ]
    }
   ],
   "source": [
    "from sklearn.metrics import precision_score, recall_score, f1_score, accuracy_score\n",
    "y_pred=dtc.predict(x_test)\n",
    "print('Precision: %.3f' % precision_score(y_test, y_pred))\n",
    "print('Recall: %.3f' % recall_score(y_test, y_pred))\n",
    "print('F1 Score: %.3f' % f1_score(y_test, y_pred))"
   ]
  },
  {
   "cell_type": "code",
   "execution_count": 21,
   "id": "c037ff3c-72be-4b25-be33-cbc85afecc88",
   "metadata": {},
   "outputs": [
    {
     "data": {
      "text/plain": [
       "array([1, 0, 0, ..., 1, 1, 1], dtype=int64)"
      ]
     },
     "execution_count": 21,
     "metadata": {},
     "output_type": "execute_result"
    }
   ],
   "source": [
    "dtc.predict(x_test)\n",
    "\n"
   ]
  },
  {
   "cell_type": "code",
   "execution_count": 22,
   "id": "e9cc4ce4-67b7-4734-9038-29350a0d63de",
   "metadata": {},
   "outputs": [],
   "source": [
    "#importing and encoding test dataset"
   ]
  },
  {
   "cell_type": "code",
   "execution_count": 23,
   "id": "54f54203-a0ab-410c-b8ec-ab37f326a6e0",
   "metadata": {},
   "outputs": [],
   "source": [
    "df_test = pd.read_csv(\"test_data.csv\")\n",
    "\n"
   ]
  },
  {
   "cell_type": "code",
   "execution_count": 24,
   "id": "aabac58c-c921-4906-a02a-5320ad505f2a",
   "metadata": {},
   "outputs": [],
   "source": [
    "from sklearn.preprocessing import LabelEncoder \n",
    "le = LabelEncoder()\n",
    "df_test['job'] = le.fit_transform(df_test['job'])\n",
    "df_test['education'] = le.fit_transform(df_test['education'])\n",
    "df_test['loan'] = le.fit_transform(df_test['loan'])\n",
    "df_test['contact'] = le.fit_transform(df_test['contact'])\n",
    "df_test['month'] = le.fit_transform(df_test['month'])\n",
    "df_test['poutcome'] = le.fit_transform(df_test['poutcome'])\n",
    "df_test['housing'] = le.fit_transform(df_test['housing'])\n",
    "df_test['marital'] = le.fit_transform(df_test['marital'])\n",
    "df_test['default'] = le.fit_transform(df_test['default'])"
   ]
  },
  {
   "cell_type": "code",
   "execution_count": 25,
   "id": "6e740db3-57ae-48f2-bbf2-97cdd9afae3e",
   "metadata": {},
   "outputs": [],
   "source": [
    "x_final_test=df_test\n"
   ]
  },
  {
   "cell_type": "code",
   "execution_count": 26,
   "id": "4a7ebb5d-4ec4-41cd-b434-f3438245de7e",
   "metadata": {},
   "outputs": [],
   "source": [
    "pred=dtc.predict(x_final_test)\n"
   ]
  },
  {
   "cell_type": "code",
   "execution_count": 27,
   "id": "2172bbd2-7bd1-4fc0-b081-46fa616aff7e",
   "metadata": {},
   "outputs": [],
   "source": [
    "#result data"
   ]
  },
  {
   "cell_type": "code",
   "execution_count": 28,
   "id": "6505a13d-f39f-44fa-8e61-cc0e6f9ae23d",
   "metadata": {},
   "outputs": [],
   "source": [
    "pred = pd.DataFrame(pred, columns=['deposit']).to_csv('result_data.csv')"
   ]
  },
  {
   "cell_type": "code",
   "execution_count": 29,
   "id": "2ce42a8e-3adb-4b9c-8db8-0aed01a56fa4",
   "metadata": {},
   "outputs": [],
   "source": [
    "result=pd.read_csv(\"result_data.csv\")"
   ]
  },
  {
   "cell_type": "code",
   "execution_count": 30,
   "id": "bad625ae-2220-4fac-9c6e-6b08f61752bf",
   "metadata": {},
   "outputs": [],
   "source": [
    "result['deposit']=result['deposit'].apply(\n",
    "    lambda x: 'yes' if x== 1 else ('no' if x ==0 else None))"
   ]
  },
  {
   "cell_type": "code",
   "execution_count": 31,
   "id": "03a7878c-b15a-4e99-aca9-bce8a1b0937f",
   "metadata": {},
   "outputs": [],
   "source": [
    "result=pd.DataFrame(result,columns=['deposit']).to_csv('result_data.csv')"
   ]
  },
  {
   "cell_type": "code",
   "execution_count": null,
   "id": "1dbfa8db-a462-470b-be5c-bcb0fed8f6fc",
   "metadata": {},
   "outputs": [],
   "source": []
  }
 ],
 "metadata": {
  "kernelspec": {
   "display_name": "Python 3 (ipykernel)",
   "language": "python",
   "name": "python3"
  },
  "language_info": {
   "codemirror_mode": {
    "name": "ipython",
    "version": 3
   },
   "file_extension": ".py",
   "mimetype": "text/x-python",
   "name": "python",
   "nbconvert_exporter": "python",
   "pygments_lexer": "ipython3",
   "version": "3.9.12"
  }
 },
 "nbformat": 4,
 "nbformat_minor": 5
}
